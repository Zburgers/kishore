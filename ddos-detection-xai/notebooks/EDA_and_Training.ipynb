{
 "cells": [
  {
   "cell_type": "code",
   "execution_count": null,
   "metadata": {
    "vscode": {
     "languageId": "plaintext"
    }
   },
   "outputs": [],
   "source": []
  },
  {
   "cell_type": "markdown",
   "metadata": {},
   "source": [
    "**Data Preprocessing**"
   ]
  },
  {
   "cell_type": "code",
   "execution_count": null,
   "metadata": {
    "vscode": {
     "languageId": "plaintext"
    }
   },
   "outputs": [],
   "source": [
    "# Import libraries\n",
    "import pandas as pd\n",
    "import numpy as np\n",
    "from sklearn.model_selection import train_test_split\n",
    "from sklearn.preprocessing import MinMaxScaler\n",
    "import joblib\n"
   ]
  },
  {
   "cell_type": "code",
   "execution_count": null,
   "metadata": {
    "vscode": {
     "languageId": "plaintext"
    }
   },
   "outputs": [],
   "source": [
    "\n",
    "# Load dataset\n",
    "df = pd.read_csv('../data/Friday-WorkingHours-Afternoon-DDos.csv')\n",
    "\n",
    "# Clean data\n",
    "df.replace([np.inf, -np.inf], np.nan, inplace=True)\n",
    "df.dropna(inplace=True)\n",
    "\n",
    "# Feature engineering\n",
    "features = ['Flow Duration', 'Total Fwd Packets', 'Total Backward Packets',\n",
    "            'Packet Length Mean', 'Packet Length Std', 'Bwd Packet Length Std']\n",
    "\n",
    "# Label encoding\n",
    "df['Label'] = df['Label'].map({'BENIGN': 0, 'DDoS': 1})\n",
    "\n",
    "# Normalization\n",
    "scaler = MinMaxScaler()\n",
    "X = scaler.fit_transform(df[features])\n",
    "y = df['Label'].values\n",
    "\n",
    "# Save scaler\n",
    "joblib.dump(scaler, '../models/scaler.pkl')\n",
    "\n",
    "# Train-test split\n",
    "X_train, X_test, y_train, y_test = train_test_split(X, y, test_size=0.2, random_state=42)"
   ]
  },
  {
   "cell_type": "markdown",
   "metadata": {},
   "source": [
    "**Model Training**"
   ]
  },
  {
   "cell_type": "code",
   "execution_count": null,
   "metadata": {
    "vscode": {
     "languageId": "plaintext"
    }
   },
   "outputs": [],
   "source": [
    "from sklearn.ensemble import RandomForestClassifier\n",
    "from tensorflow.keras.models import Sequential\n",
    "from tensorflow.keras.layers import LSTM, Dense\n",
    "import joblib\n",
    "\n",
    "# Random Forest Model\n",
    "rf = RandomForestClassifier(n_estimators=100, max_depth=10)\n",
    "rf.fit(X_train, y_train)\n",
    "joblib.dump(rf, '../models/trained_rf_model.pkl')\n",
    "\n",
    "# LSTM Model\n",
    "X_train_reshaped = X_train.reshape((X_train.shape[0], 1, X_train.shape[1]))\n",
    "\n",
    "model = Sequential()\n",
    "model.add(LSTM(64, input_shape=(1, len(features))))\n",
    "model.add(Dense(1, activation='sigmoid'))\n",
    "model.compile(loss='binary_crossentropy', optimizer='adam', metrics=['accuracy'])\n",
    "model.fit(X_train_reshaped, y_train, epochs=10, batch_size=32)\n",
    "model.save('../models/trained_lstm_model.h5')"
   ]
  }
 ],
 "metadata": {
  "language_info": {
   "name": "python"
  }
 },
 "nbformat": 4,
 "nbformat_minor": 2
}
